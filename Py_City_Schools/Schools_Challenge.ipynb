{
 "cells": [
  {
   "cell_type": "code",
   "execution_count": 3,
   "id": "97cc50eb",
   "metadata": {},
   "outputs": [],
   "source": [
    "#\"this is my Jupyter Notebook File\"\n",
    "import os\n",
    "import csv"
   ]
  },
  {
   "cell_type": "code",
   "execution_count": 4,
   "id": "316985f4",
   "metadata": {},
   "outputs": [
    {
     "name": "stdout",
     "output_type": "stream",
     "text": [
      "Resources\\schools_complete.csv\n"
     ]
    }
   ],
   "source": [
    "#Set path for file Schools\n",
    "csvpath = os.path.join(\"Resources\", \"schools_complete.csv\")\n",
    "csvpath                      \n",
    "                       \n",
    "print(csvpath)\n",
    "\n"
   ]
  },
  {
   "cell_type": "code",
   "execution_count": 5,
   "id": "07ff454f",
   "metadata": {},
   "outputs": [
    {
     "name": "stdout",
     "output_type": "stream",
     "text": [
      "Resources\\students_complete.csv\n"
     ]
    }
   ],
   "source": [
    "#Set path for file Students\n",
    "csvpath = os.path.join(\"Resources\", \"students_complete.csv\")\n",
    "csvpath                      \n",
    "                       \n",
    "print(csvpath)"
   ]
  }
 ],
 "metadata": {
  "kernelspec": {
   "display_name": "Python 3",
   "language": "python",
   "name": "python3"
  },
  "language_info": {
   "codemirror_mode": {
    "name": "ipython",
    "version": 3
   },
   "file_extension": ".py",
   "mimetype": "text/x-python",
   "name": "python",
   "nbconvert_exporter": "python",
   "pygments_lexer": "ipython3",
   "version": "3.6.13"
  }
 },
 "nbformat": 4,
 "nbformat_minor": 5
}
