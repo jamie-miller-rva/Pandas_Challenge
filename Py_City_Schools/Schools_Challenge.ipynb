{
 "cells": [
  {
   "cell_type": "code",
   "execution_count": 1,
   "id": "c4cfc40a",
   "metadata": {},
   "outputs": [],
   "source": [
    "#\"this is my Jupyter Notebook File\"\n",
    "#dependencies\n",
    "import pandas as pd\n",
    "import os\n",
    "import csv\n",
    "\n",
    "\n",
    "#load files\n",
    "school_data_to_load = \"Resources/schools_complete.csv\"\n",
    "student_data_to_load = \"Resources/students_complete.csv\"\n",
    "\n",
    "# Read School and Student Data File and store into Pandas DataFrames\n",
    "school_data = pd.read_csv(school_data_to_load)\n",
    "student_data = pd.read_csv(student_data_to_load)\n",
    "\n",
    "# Combine the data into a single dataset.  \n",
    "school_data_complete = pd.merge(student_data, school_data, how=\"left\", on=[\"school_name\", \"school_name\"])"
   ]
  },
  {
   "cell_type": "code",
   "execution_count": 2,
   "id": "6e1a9851",
   "metadata": {},
   "outputs": [],
   "source": [
    "students_csv = \"Resources/students_complete.csv\"\n",
    "schools_csv = \"Resources/schools_complete.csv\""
   ]
  },
  {
   "cell_type": "code",
   "execution_count": 3,
   "id": "b7f77f7c",
   "metadata": {},
   "outputs": [],
   "source": [
    "students_df = pd.read_csv(students_csv)\n",
    "schools_df = pd.read_csv(schools_csv)"
   ]
  },
  {
   "cell_type": "code",
   "execution_count": 9,
   "id": "4bae9dd0",
   "metadata": {},
   "outputs": [
    {
     "name": "stdout",
     "output_type": "stream",
     "text": [
      "Resources\\schools_complete.csv\n",
      "Resources\\students_complete.csv\n"
     ]
    }
   ],
   "source": [
    "#Set path for file Schools\n",
    "csvpath = os.path.join(\"Resources\", \"schools_complete.csv\")\n",
    "csvpath \n",
    "\n",
    "print(csvpath) \n",
    "\n",
    "#Set path for file Students\n",
    "csvpath = os.path.join(\"Resources\", \"students_complete.csv\")\n",
    "csvpath                      \n",
    "                       \n",
    "                      \n",
    "print(csvpath)\n",
    "\n"
   ]
  },
  {
   "cell_type": "code",
   "execution_count": null,
   "id": "0e4ed1e3",
   "metadata": {},
   "outputs": [],
   "source": []
  },
  {
   "cell_type": "code",
   "execution_count": null,
   "id": "5e1458ed",
   "metadata": {},
   "outputs": [],
   "source": [
    "#District Summary\n",
    "#Create a high level snapshot (in table form) of the district's key metrics, including:\n",
    "#need to Join tables on school\n",
    "# Make Table\n",
    "    #Total Schools - this should be a series\n",
    "    #Total Students - this should be a series\n",
    "    #Total Budget- this should be a series\n",
    "    #Average Math Score- this should be a series\n",
    "    #Average Reading Score\t- this should be a series\n",
    "    #% Passing Math (The percentage of students that passed math.)- this should be a series\n",
    "    #% Passing Reading (The percentage of students that passed reading.)- this should be a series\n",
    "    #% Overall Passing (The percentage of students that passed math **and** reading.)- this should be a series\n"
   ]
  },
  {
   "cell_type": "code",
   "execution_count": null,
   "id": "078f5044",
   "metadata": {},
   "outputs": [],
   "source": [
    "# School Summary\n",
    "# Create an overview table that summarizes key metrics about each school, including:\n",
    "#need to Join tables on school\n",
    "    # School Name- this should be a series\n",
    "    # School Type- this should be a series\n",
    "    # Total Student - this should be a series\n",
    "    # Total School Budget - this should be a series\n",
    "    # Per Student Budget- this should be a series\n",
    "    # Average Math Score- this should be a series\n",
    "    # Average Reading Scores - this should be a series\n",
    "    # % Passing Math (The percentage of students that passed math.)- this should be a series\n",
    "    # % Passing Reading (The percentage of students that passed reading.)- this should be a series\n",
    "    # % Overall Passing (The percentage of students that passed math **and** reading.)- this should be a series\n",
    "    \n"
   ]
  },
  {
   "cell_type": "code",
   "execution_count": null,
   "id": "152420cd",
   "metadata": {},
   "outputs": [],
   "source": [
    "# Top Performing Schools (By % Overall Passing)\n",
    "# Create a table that highlights the top 5 performing schools based on % Overall Passing. Include:\n",
    "#need to Join tables on school\n",
    "    # School Name- this should be a series\n",
    "    # School Type- this should be a series\n",
    "    # Total Students- this should be a series\n",
    "    # Total School Budget- this should be a series\n",
    "    # Per Student Budget- this should be a series\n",
    "    # Average Math Score- this should be a series\n",
    "    # Average Reading Score- this should be a series\n",
    "    # % Passing Math (The percentage of students that passed math.)- this should be a series\n",
    "    # % Passing Reading (The percentage of students that passed reading.)- this should be a series\n",
    "    # % Overall Passing (The percentage of students that passed math **and** reading.)- this should be a series\n"
   ]
  },
  {
   "cell_type": "code",
   "execution_count": null,
   "id": "80605079",
   "metadata": {},
   "outputs": [],
   "source": [
    "# Bottom Performing Schools (By % Overall Passing)\n",
    "# Create a table that highlights the bottom 5 performing schools based on % Overall Passing\n",
    "#need to Join tables on school\n",
    "    # School Name- this should be a series\n",
    "    # School Type- this should be a series\n",
    "    # Total Students- this should be a series\n",
    "    # Total School Budget- this should be a series\n",
    "    # Per Student Budget- this should be a series\n",
    "    # Average Math Score- this should be a series\n",
    "    # Average Reading Score- this should be a series\n",
    "    # % Passing Math (The percentage of students that passed math.)- this should be a series\n",
    "    # % Passing Reading (The percentage of students that passed reading.)- this should be a series\n",
    "    # % Overall Passing (The percentage of students that passed math **and** reading.)- this should be a series\n"
   ]
  },
  {
   "cell_type": "code",
   "execution_count": null,
   "id": "53f164ee",
   "metadata": {},
   "outputs": [],
   "source": [
    "# Math Scores by Grade\\*\\*\n",
    "# Create a table that lists the average Math Score for students of each grade level (9th, 10th, 11th, 12th) at each school.\n",
    "#Need to create Bins\n",
    "#Summay by School and Avg Math score\n",
    "# School - this should be a series\n",
    "# 9th - this should be a series\n",
    "# 10th- this should be a series\n",
    "# 11th- this should be a series\n",
    "# 12th- this should be a series"
   ]
  },
  {
   "cell_type": "code",
   "execution_count": null,
   "id": "3d3fb01c",
   "metadata": {},
   "outputs": [],
   "source": [
    "# Reading Scores by Grade\n",
    "# Create a table that lists the average Reading Score for students of each grade level (9th, 10th, 11th, 12th) at each school.\n",
    "#Need to create Bins\n",
    "#Summay by School and Avg Reading score\n",
    "# School - this should be a series\n",
    "# 9th - this should be a series\n",
    "# 10th- this should be a series\n",
    "# 11th- this should be a series\n",
    "# 12th- this should be a series"
   ]
  },
  {
   "cell_type": "code",
   "execution_count": null,
   "id": "27135ce3",
   "metadata": {},
   "outputs": [],
   "source": [
    "# Scores by School Spending\n",
    "# Create a table that breaks down - this should be a series performances based on average Spending Ranges (Per Student). Use 4 reasonable bins to group school spending. Include in the table each of the following:\n",
    "#need to Join tables on School\n",
    "# Summary by avg budget by student\n",
    "    #School- this should be a series\n",
    "    # avg budget by student - this should be a series\n",
    "    # Average Math Score - this should be a series\n",
    "    # Average Reading Score- this should be a series\n",
    "    # % Passing Math (The percentage of students that passed math.)- this should be a series\n",
    "    # % Passing Reading (The percentage of students that passed reading.)- this should be a series\n",
    "    # % Overall Passing (The percentage of students that passed math **and** reading.)- this should be a series\n",
    "    "
   ]
  },
  {
   "cell_type": "code",
   "execution_count": null,
   "id": "0d727606",
   "metadata": {},
   "outputs": [],
   "source": [
    "# Scores by School Size\n",
    "# Repeat the above breakdown, but this time group schools based on a reasonable approximation of school size (Small, Medium, Large).\n",
    "#need to Join tables on school\n",
    "# Summary by avg students by school\n",
    "    #School- this should be a series\n",
    "    # school size - this should be a series\n",
    "    # Average Math Score- this should be a series\n",
    "    # Average Reading Score- this should be a series\n",
    "    # % Passing Math (The percentage of students that passed math.)- this should be a series\n",
    "    # % Passing Reading (The percentage of students that passed reading.)- this should be a series\n",
    "    # % Overall Passing (The percentage of students that passed math **and** reading.)- this should be a series\n",
    "    "
   ]
  },
  {
   "cell_type": "code",
   "execution_count": null,
   "id": "77e06e7a",
   "metadata": {},
   "outputs": [],
   "source": [
    "# Scores by School Type\n",
    "# Repeat the above breakdown, but this time group schools based on school type (Charter vs. District).\n",
    "#need to Join tables on school\n",
    "# Summary by avg students by school type\n",
    "     #School- this should be a series\n",
    "    # school type - this should be a series\n",
    "    # Average Math Score- this should be a series\n",
    "    # Average Reading Score- this should be a series\n",
    "    # % Passing Math (The percentage of students that passed math.)- this should be a series\n",
    "    # % Passing Reading (The percentage of students that passed reading.)- this should be a series\n",
    "    # % Overall Passing (The percentage of students that passed math **and** reading.)- this should be a series\n",
    "    "
   ]
  }
 ],
 "metadata": {
  "kernelspec": {
   "display_name": "Python 3",
   "language": "python",
   "name": "python3"
  },
  "language_info": {
   "codemirror_mode": {
    "name": "ipython",
    "version": 3
   },
   "file_extension": ".py",
   "mimetype": "text/x-python",
   "name": "python",
   "nbconvert_exporter": "python",
   "pygments_lexer": "ipython3",
   "version": "3.6.13"
  }
 },
 "nbformat": 4,
 "nbformat_minor": 5
}
