{
 "cells": [
  {
   "cell_type": "code",
   "execution_count": 3,
   "id": "a453eb69",
   "metadata": {},
   "outputs": [],
   "source": [
    "#\"this is my Jupyter Notebook File\"\n",
    "import os\n",
    "import csv"
   ]
  },
  {
   "cell_type": "code",
   "execution_count": 4,
   "id": "983422cd",
   "metadata": {},
   "outputs": [
    {
     "name": "stdout",
     "output_type": "stream",
     "text": [
      "Resources\\schools_complete.csv\n"
     ]
    }
   ],
   "source": [
    "#Set path for file Schools\n",
    "csvpath = os.path.join(\"Resources\", \"schools_complete.csv\")\n",
    "csvpath                      \n",
    "                       \n",
    "print(csvpath)\n",
    "\n"
   ]
  },
  {
   "cell_type": "code",
   "execution_count": 5,
   "id": "c0b8b9e3",
   "metadata": {},
   "outputs": [
    {
     "name": "stdout",
     "output_type": "stream",
     "text": [
      "Resources\\students_complete.csv\n"
     ]
    }
   ],
   "source": [
    "#Set path for file Students\n",
    "csvpath = os.path.join(\"Resources\", \"students_complete.csv\")\n",
    "csvpath                      \n",
    "                       \n",
    "print(csvpath)"
   ]
  }
 ],
 "metadata": {
  "kernelspec": {
   "display_name": "Python 3",
   "language": "python",
   "name": "python3"
  },
  "language_info": {
   "codemirror_mode": {
    "name": "ipython",
    "version": 3
   },
   "file_extension": ".py",
   "mimetype": "text/x-python",
   "name": "python",
   "nbconvert_exporter": "python",
   "pygments_lexer": "ipython3",
   "version": "3.6.13"
  }
 },
 "nbformat": 4,
 "nbformat_minor": 5
}
